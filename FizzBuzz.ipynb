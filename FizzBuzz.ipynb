{
  "nbformat": 4,
  "nbformat_minor": 0,
  "metadata": {
    "colab": {
      "provenance": [],
      "authorship_tag": "ABX9TyPKROaApAUqhisz5t7bGx+4",
      "include_colab_link": true
    },
    "kernelspec": {
      "name": "python3",
      "display_name": "Python 3"
    },
    "language_info": {
      "name": "python"
    }
  },
  "cells": [
    {
      "cell_type": "markdown",
      "metadata": {
        "id": "view-in-github",
        "colab_type": "text"
      },
      "source": [
        "<a href=\"https://colab.research.google.com/github/cheloberrios/Proydatadojo/blob/main/FizzBuzz.ipynb\" target=\"_parent\"><img src=\"https://colab.research.google.com/assets/colab-badge.svg\" alt=\"Open In Colab\"/></a>"
      ]
    },
    {
      "cell_type": "markdown",
      "source": [
        "Escribe un código que imprima los números del 1 al 20. Pero para los múltiplos de tres imprime “Frizz” en lugar del número, y para los múltiplos de cinco imprime “Buzz”. Para los números que son múltiplos de tres y cinco imprime “FizzBuzz”."
      ],
      "metadata": {
        "id": "7xA1qqtkGtfo"
      }
    },
    {
      "cell_type": "code",
      "source": [
        "for i in range(1,21):\n",
        "    if i % 3 == 0 and i % 5 == 0:\n",
        "      print('FrizzBuzz')  \n",
        "    if i % 3 == 0:\n",
        "      print(\"Frizz\")\n",
        "    elif i % 5 == 0:\n",
        "      print('Buzz')\n",
        "    else:\n",
        "      print(i)\n"
      ],
      "metadata": {
        "colab": {
          "base_uri": "https://localhost:8080/"
        },
        "id": "zbJFY9poGxIs",
        "outputId": "ec19971c-d83c-41da-f003-c7c30770b518"
      },
      "execution_count": 18,
      "outputs": [
        {
          "output_type": "stream",
          "name": "stdout",
          "text": [
            "1\n",
            "2\n",
            "Frizz\n",
            "4\n",
            "Buzz\n",
            "Frizz\n",
            "7\n",
            "8\n",
            "Frizz\n",
            "Buzz\n",
            "11\n",
            "Frizz\n",
            "13\n",
            "14\n",
            "FrizzBuzz\n",
            "Frizz\n",
            "16\n",
            "17\n",
            "Frizz\n",
            "19\n",
            "Buzz\n"
          ]
        }
      ]
    },
    {
      "cell_type": "code",
      "source": [],
      "metadata": {
        "id": "fWwZJHceGz6z"
      },
      "execution_count": null,
      "outputs": []
    }
  ]
}