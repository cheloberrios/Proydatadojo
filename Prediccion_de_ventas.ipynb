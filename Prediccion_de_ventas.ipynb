{
  "nbformat": 4,
  "nbformat_minor": 0,
  "metadata": {
    "colab": {
      "provenance": [],
      "authorship_tag": "ABX9TyMWK5TT2OoXBzJOmPQ/FQ3b",
      "include_colab_link": true
    },
    "kernelspec": {
      "name": "python3",
      "display_name": "Python 3"
    },
    "language_info": {
      "name": "python"
    }
  },
  "cells": [
    {
      "cell_type": "markdown",
      "metadata": {
        "id": "view-in-github",
        "colab_type": "text"
      },
      "source": [
        "<a href=\"https://colab.research.google.com/github/cheloberrios/Proydatadojo/blob/main/Prediccion_de_ventas.ipynb\" target=\"_parent\"><img src=\"https://colab.research.google.com/assets/colab-badge.svg\" alt=\"Open In Colab\"/></a>"
      ]
    },
    {
      "cell_type": "code",
      "execution_count": null,
      "metadata": {
        "id": "CNMWshjBtmzb"
      },
      "outputs": [],
      "source": [
        "import pandas as pd \n",
        "import numpy as np \n"
      ]
    },
    {
      "cell_type": "code",
      "source": [
        "df = pd.read_csv(\"sales_predictions (1).csv\")"
      ],
      "metadata": {
        "id": "FsjJWIKbwjv7"
      },
      "execution_count": null,
      "outputs": []
    },
    {
      "cell_type": "code",
      "source": [
        "df.shape\n",
        "#1) ¿Cuántas filas y columnas?\n",
        "\n"
      ],
      "metadata": {
        "colab": {
          "base_uri": "https://localhost:8080/"
        },
        "id": "AqM3dwZgwspk",
        "outputId": "a8745b0b-10c1-4a17-ec38-81c0e1989e20"
      },
      "execution_count": null,
      "outputs": [
        {
          "output_type": "execute_result",
          "data": {
            "text/plain": [
              "(8523, 12)"
            ]
          },
          "metadata": {},
          "execution_count": 9
        }
      ]
    },
    {
      "cell_type": "code",
      "source": [
        "#2) ¿Cuáles son los tipos de datos en cada variable?\n",
        "\n",
        "df.info()"
      ],
      "metadata": {
        "colab": {
          "base_uri": "https://localhost:8080/"
        },
        "id": "IAfQcquFwvRl",
        "outputId": "dc1d3401-5a54-4399-b026-ab8f5c084f7b"
      },
      "execution_count": null,
      "outputs": [
        {
          "output_type": "stream",
          "name": "stdout",
          "text": [
            "<class 'pandas.core.frame.DataFrame'>\n",
            "RangeIndex: 8523 entries, 0 to 8522\n",
            "Data columns (total 12 columns):\n",
            " #   Column                     Non-Null Count  Dtype  \n",
            "---  ------                     --------------  -----  \n",
            " 0   Item_Identifier            8523 non-null   object \n",
            " 1   Item_Weight                7060 non-null   float64\n",
            " 2   Item_Fat_Content           8523 non-null   object \n",
            " 3   Item_Visibility            8523 non-null   float64\n",
            " 4   Item_Type                  8523 non-null   object \n",
            " 5   Item_MRP                   8523 non-null   float64\n",
            " 6   Outlet_Identifier          8523 non-null   object \n",
            " 7   Outlet_Establishment_Year  8523 non-null   int64  \n",
            " 8   Outlet_Size                6113 non-null   object \n",
            " 9   Outlet_Location_Type       8523 non-null   object \n",
            " 10  Outlet_Type                8523 non-null   object \n",
            " 11  Item_Outlet_Sales          8523 non-null   float64\n",
            "dtypes: float64(4), int64(1), object(7)\n",
            "memory usage: 799.2+ KB\n"
          ]
        }
      ]
    },
    {
      "cell_type": "code",
      "source": [
        "#3) ¿Hay duplicados? Si es el caso, eliminen algunos duplicados.\n",
        "duplicados = df.duplicated()\n",
        "#filas_duplicadas = df.loc[duplicados]\n",
        "#filas_duplicadas\n",
        "duplicados\n",
        "\n"
      ],
      "metadata": {
        "colab": {
          "base_uri": "https://localhost:8080/"
        },
        "id": "wdv5_orixWPE",
        "outputId": "706013ca-b9f4-4119-9a3b-ddb9c2696f24"
      },
      "execution_count": null,
      "outputs": [
        {
          "output_type": "execute_result",
          "data": {
            "text/plain": [
              "0       False\n",
              "1       False\n",
              "2       False\n",
              "3       False\n",
              "4       False\n",
              "        ...  \n",
              "8518    False\n",
              "8519    False\n",
              "8520    False\n",
              "8521    False\n",
              "8522    False\n",
              "Length: 8523, dtype: bool"
            ]
          },
          "metadata": {},
          "execution_count": 18
        }
      ]
    },
    {
      "cell_type": "code",
      "source": [
        "conteo_valores = duplicados[[0]].value_counts()\n",
        "conteo_valores"
      ],
      "metadata": {
        "colab": {
          "base_uri": "https://localhost:8080/"
        },
        "id": "VIB0SAJXxfU6",
        "outputId": "ba82b341-e2eb-41d5-b19d-90b6db91a788"
      },
      "execution_count": null,
      "outputs": [
        {
          "output_type": "execute_result",
          "data": {
            "text/plain": [
              "False    1\n",
              "dtype: int64"
            ]
          },
          "metadata": {},
          "execution_count": 27
        }
      ]
    },
    {
      "cell_type": "code",
      "source": [
        "#4) Identifiquen los valores faltantes.\n",
        "\n",
        "print(df.isnull().sum())\n"
      ],
      "metadata": {
        "colab": {
          "base_uri": "https://localhost:8080/"
        },
        "id": "9yL4Rkjkyfi9",
        "outputId": "775062b5-a54b-4dac-ae22-f5eb6c68b380"
      },
      "execution_count": 29,
      "outputs": [
        {
          "output_type": "stream",
          "name": "stdout",
          "text": [
            "Item_Identifier                 0\n",
            "Item_Weight                  1463\n",
            "Item_Fat_Content                0\n",
            "Item_Visibility                 0\n",
            "Item_Type                       0\n",
            "Item_MRP                        0\n",
            "Outlet_Identifier               0\n",
            "Outlet_Establishment_Year       0\n",
            "Outlet_Size                  2410\n",
            "Outlet_Location_Type            0\n",
            "Outlet_Type                     0\n",
            "Item_Outlet_Sales               0\n",
            "dtype: int64\n"
          ]
        }
      ]
    },
    {
      "cell_type": "code",
      "source": [
        "df_reemplazado = df.replace(np.nan, 0)\n",
        "print(df_reemplazado.isnull().sum())\n"
      ],
      "metadata": {
        "id": "9TOH4DTIyzEH",
        "colab": {
          "base_uri": "https://localhost:8080/"
        },
        "outputId": "ac1fbad8-5972-464f-80be-c0c94faddc87"
      },
      "execution_count": 35,
      "outputs": [
        {
          "output_type": "stream",
          "name": "stdout",
          "text": [
            "Item_Identifier              0\n",
            "Item_Weight                  0\n",
            "Item_Fat_Content             0\n",
            "Item_Visibility              0\n",
            "Item_Type                    0\n",
            "Item_MRP                     0\n",
            "Outlet_Identifier            0\n",
            "Outlet_Establishment_Year    0\n",
            "Outlet_Size                  0\n",
            "Outlet_Location_Type         0\n",
            "Outlet_Type                  0\n",
            "Item_Outlet_Sales            0\n",
            "dtype: int64\n"
          ]
        }
      ]
    },
    {
      "cell_type": "code",
      "source": [
        "pd.options.display.max_rows = None\n"
      ],
      "metadata": {
        "id": "wjgwrPolzcN4"
      },
      "execution_count": 41,
      "outputs": []
    },
    {
      "cell_type": "code",
      "source": [
        "print(df['Item_Type'].value_counts())\n",
        "\n"
      ],
      "metadata": {
        "colab": {
          "base_uri": "https://localhost:8080/"
        },
        "id": "D0AvttAz07lM",
        "outputId": "8a9a3550-8d82-4499-b0b0-48f764ddd0b6"
      },
      "execution_count": 49,
      "outputs": [
        {
          "output_type": "stream",
          "name": "stdout",
          "text": [
            "Fruits and Vegetables    1232\n",
            "Snack Foods              1200\n",
            "Household                 910\n",
            "Frozen Foods              856\n",
            "Dairy                     682\n",
            "Canned                    649\n",
            "Baking Goods              648\n",
            "Health and Hygiene        520\n",
            "Soft Drinks               445\n",
            "Meat                      425\n",
            "Breads                    251\n",
            "Hard Drinks               214\n",
            "Others                    169\n",
            "Starchy Foods             148\n",
            "Breakfast                 110\n",
            "Seafood                    64\n",
            "Name: Item_Type, dtype: int64\n"
          ]
        }
      ]
    },
    {
      "cell_type": "code",
      "source": [
        "#(mínimo, máximo y media)\n",
        "\n",
        "print(\"Mínimos de cada columna:\")\n",
        "print(df.min())\n",
        "\n",
        "# encontrar el máximo de cada columna\n",
        "print(\"Máximos de cada columna:\")\n",
        "print(df.max())\n",
        "\n",
        "# encontrar la media de cada columna\n",
        "print(\"Medias de cada columna:\")\n",
        "print(df.mean())"
      ],
      "metadata": {
        "colab": {
          "base_uri": "https://localhost:8080/"
        },
        "id": "cuvyc_oF2D9l",
        "outputId": "373175b9-1bd7-449d-f314-4ae371e89700"
      },
      "execution_count": 52,
      "outputs": [
        {
          "output_type": "stream",
          "name": "stdout",
          "text": [
            "Mínimos de cada columna:\n",
            "Item_Identifier                      DRA12\n",
            "Item_Weight                          4.555\n",
            "Item_Fat_Content                        LF\n",
            "Item_Visibility                        0.0\n",
            "Item_Type                     Baking Goods\n",
            "Item_MRP                             31.29\n",
            "Outlet_Identifier                   OUT010\n",
            "Outlet_Establishment_Year             1985\n",
            "Outlet_Location_Type                Tier 1\n",
            "Outlet_Type                  Grocery Store\n",
            "Item_Outlet_Sales                    33.29\n",
            "dtype: object\n",
            "Máximos de cada columna:\n",
            "Item_Identifier                          NCZ54\n",
            "Item_Weight                              21.35\n",
            "Item_Fat_Content                           reg\n",
            "Item_Visibility                       0.328391\n",
            "Item_Type                        Starchy Foods\n",
            "Item_MRP                              266.8884\n",
            "Outlet_Identifier                       OUT049\n",
            "Outlet_Establishment_Year                 2009\n",
            "Outlet_Location_Type                    Tier 3\n",
            "Outlet_Type                  Supermarket Type3\n",
            "Item_Outlet_Sales                   13086.9648\n",
            "dtype: object\n",
            "Medias de cada columna:\n",
            "Item_Weight                    12.857645\n",
            "Item_Visibility                 0.066132\n",
            "Item_MRP                      140.992782\n",
            "Outlet_Establishment_Year    1997.831867\n",
            "Item_Outlet_Sales            2181.288914\n",
            "dtype: float64\n"
          ]
        },
        {
          "output_type": "stream",
          "name": "stderr",
          "text": [
            "<ipython-input-52-f4742541ef38>:4: FutureWarning: Dropping of nuisance columns in DataFrame reductions (with 'numeric_only=None') is deprecated; in a future version this will raise TypeError.  Select only valid columns before calling the reduction.\n",
            "  print(df.min())\n",
            "<ipython-input-52-f4742541ef38>:8: FutureWarning: Dropping of nuisance columns in DataFrame reductions (with 'numeric_only=None') is deprecated; in a future version this will raise TypeError.  Select only valid columns before calling the reduction.\n",
            "  print(df.max())\n",
            "<ipython-input-52-f4742541ef38>:12: FutureWarning: Dropping of nuisance columns in DataFrame reductions (with 'numeric_only=None') is deprecated; in a future version this will raise TypeError.  Select only valid columns before calling the reduction.\n",
            "  print(df.mean())\n"
          ]
        }
      ]
    },
    {
      "cell_type": "code",
      "source": [],
      "metadata": {
        "id": "C344U2l32ttt"
      },
      "execution_count": null,
      "outputs": []
    }
  ]
}